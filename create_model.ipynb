{
 "cells": [
  {
   "cell_type": "markdown",
   "metadata": {},
   "source": [
    "# 1 . Thư viện"
   ]
  },
  {
   "cell_type": "code",
   "execution_count": 2,
   "metadata": {},
   "outputs": [],
   "source": [
    "import numpy as np\n",
    "import statsmodels.api as sm\n",
    "import matplotlib.pyplot as plt\n",
    "from vnstock.explorer.vci.financial import Finance\n",
    "import pandas as pd\n"
   ]
  },
  {
   "cell_type": "markdown",
   "metadata": {},
   "source": [
    "# 2. Function"
   ]
  },
  {
   "cell_type": "code",
   "execution_count": null,
   "metadata": {},
   "outputs": [],
   "source": [
    "\n"
   ]
  },
  {
   "cell_type": "markdown",
   "metadata": {},
   "source": [
    "# 3. Import data"
   ]
  },
  {
   "cell_type": "code",
   "execution_count": 31,
   "metadata": {},
   "outputs": [],
   "source": [
    "#list cổ phiếu thuộc ngành sản xuất và midcap\n",
    "list_stock=['ASM', 'CII', 'BWE', 'ANV', 'CTD', 'CRE', 'CMG', 'AAA', 'CTR']\n",
    "\n",
    "#create một date-table rỗng\n",
    "df_result=pd.DataFrame()\n",
    "for stock in list_stock: #cho chạy stock chạy qua từng biến trong list_stock\n",
    "    report = Finance(symbol=stock,period='quarter' )   # gán dữ liệu vào report ; Finance : một loại truy xuất từ các bài báo : symbol : tham số đại diện cho mã cổ phiếu, period : xác định kỳ của báo cáo tài chính là theo quý )\n",
    "    data_B_sheet=report.balance_sheet(lang='vi')\n",
    "    data_IS=report.income_statement(lang='vi')\n",
    "\n",
    "    data=data_B_sheet.merge(data_IS,how='inner',on=['CP','Năm','Kỳ'])\n",
    "    \n",
    "    df_result=pd.concat([df_result,data])\n",
    "    df_result.reset_index(drop=True,inplace=True)\n",
    "\n",
    "df_result.to_csv('./data.csv',index=False)"
   ]
  },
  {
   "cell_type": "code",
   "execution_count": 73,
   "metadata": {},
   "outputs": [],
   "source": [
    "data=pd.read_csv('./data.csv')"
   ]
  },
  {
   "cell_type": "markdown",
   "metadata": {},
   "source": [
    "# 4. Processing data"
   ]
  },
  {
   "cell_type": "code",
   "execution_count": null,
   "metadata": {},
   "outputs": [],
   "source": []
  },
  {
   "cell_type": "markdown",
   "metadata": {},
   "source": [
    "# 5. Variable expansion"
   ]
  },
  {
   "cell_type": "code",
   "execution_count": 94,
   "metadata": {},
   "outputs": [],
   "source": [
    "data['DER']=data['NỢ PHẢI TRẢ (Tỷ đồng)']/data['TỔNG CỘNG NGUỒN VỐN (Tỷ đồng)']\n",
    "data['ROE']=data['Lợi nhuận thuần']/data['TỔNG CỘNG NGUỒN VỐN (Tỷ đồng)']\n",
    "data['EV']=data['TỔNG CỘNG TÀI SẢN (Tỷ đồng)']-data['NỢ PHẢI TRẢ (Tỷ đồng)']-data['Tiền và tương đương tiền (Tỷ đồng)']\n",
    "data['MVA']=data['EV']-data['Vốn góp của chủ sở hữu (Tỷ đồng)']\n",
    "data['SIZE']= np.log(data['TỔNG CỘNG TÀI SẢN (Tỷ đồng)'])\n",
    "data['ROA']=data['Lợi nhuận thuần']/data['TỔNG CỘNG TÀI SẢN (Tỷ đồng)'] \n"
   ]
  },
  {
   "cell_type": "code",
   "execution_count": 84,
   "metadata": {},
   "outputs": [],
   "source": [
    "#Bien muc tieu\n",
    "data.sort_values(['CP','Năm','Kỳ'],inplace=True)\n",
    "data['LAG_MVA']=data.groupby('CP')['MVA'].shift(-1)\n",
    "data['target']=data['LAG_MVA']-data['MVA']"
   ]
  },
  {
   "cell_type": "code",
   "execution_count": 97,
   "metadata": {},
   "outputs": [],
   "source": [
    "data_train=data[['DER','ROE','MVA','SIZE','ROA','target']].copy()\n",
    "data_train.dropna(axis=0,how='any',inplace=True)"
   ]
  },
  {
   "cell_type": "markdown",
   "metadata": {},
   "source": [
    "# 6 Train model\n",
    "> Cái cần quan tâm ở đây là:\n",
    "* coef (Hệ số hồi quy) : Hệ số đứng trước biến\n",
    "* P>|t| (Ý nghĩa thống kê của hệ số hồi quy) : Nếu nhỏ hơn 0.05 thì coef có ý nghĩa thống kê\n",
    "* R-squared (Hệ số xác định của mô hình) : Thể hiện mức độ giải thích của các biến độc lập lên biến phục thuộc\n",
    "* Prob (F-statistic) : Kiểm định mô hình (không nhớ rõ tên gọi). Nếu <0.05 thì mô hình có ý nghĩa thống kê"
   ]
  },
  {
   "cell_type": "code",
   "execution_count": 98,
   "metadata": {},
   "outputs": [
    {
     "data": {
      "text/html": [
       "<div>\n",
       "<style scoped>\n",
       "    .dataframe tbody tr th:only-of-type {\n",
       "        vertical-align: middle;\n",
       "    }\n",
       "\n",
       "    .dataframe tbody tr th {\n",
       "        vertical-align: top;\n",
       "    }\n",
       "\n",
       "    .dataframe thead th {\n",
       "        text-align: right;\n",
       "    }\n",
       "</style>\n",
       "<table border=\"1\" class=\"dataframe\">\n",
       "  <thead>\n",
       "    <tr style=\"text-align: right;\">\n",
       "      <th></th>\n",
       "      <th>DER</th>\n",
       "      <th>ROE</th>\n",
       "      <th>MVA</th>\n",
       "      <th>SIZE</th>\n",
       "      <th>ROA</th>\n",
       "      <th>target</th>\n",
       "    </tr>\n",
       "  </thead>\n",
       "  <tbody>\n",
       "    <tr>\n",
       "      <th>DER</th>\n",
       "      <td>1.000000</td>\n",
       "      <td>-0.111055</td>\n",
       "      <td>0.048022</td>\n",
       "      <td>0.257065</td>\n",
       "      <td>-0.111055</td>\n",
       "      <td>0.024807</td>\n",
       "    </tr>\n",
       "    <tr>\n",
       "      <th>ROE</th>\n",
       "      <td>-0.111055</td>\n",
       "      <td>1.000000</td>\n",
       "      <td>-0.197581</td>\n",
       "      <td>-0.231532</td>\n",
       "      <td>1.000000</td>\n",
       "      <td>0.156676</td>\n",
       "    </tr>\n",
       "    <tr>\n",
       "      <th>MVA</th>\n",
       "      <td>0.048022</td>\n",
       "      <td>-0.197581</td>\n",
       "      <td>1.000000</td>\n",
       "      <td>0.759102</td>\n",
       "      <td>-0.197581</td>\n",
       "      <td>-0.067392</td>\n",
       "    </tr>\n",
       "    <tr>\n",
       "      <th>SIZE</th>\n",
       "      <td>0.257065</td>\n",
       "      <td>-0.231532</td>\n",
       "      <td>0.759102</td>\n",
       "      <td>1.000000</td>\n",
       "      <td>-0.231532</td>\n",
       "      <td>0.042381</td>\n",
       "    </tr>\n",
       "    <tr>\n",
       "      <th>ROA</th>\n",
       "      <td>-0.111055</td>\n",
       "      <td>1.000000</td>\n",
       "      <td>-0.197581</td>\n",
       "      <td>-0.231532</td>\n",
       "      <td>1.000000</td>\n",
       "      <td>0.156676</td>\n",
       "    </tr>\n",
       "    <tr>\n",
       "      <th>target</th>\n",
       "      <td>0.024807</td>\n",
       "      <td>0.156676</td>\n",
       "      <td>-0.067392</td>\n",
       "      <td>0.042381</td>\n",
       "      <td>0.156676</td>\n",
       "      <td>1.000000</td>\n",
       "    </tr>\n",
       "  </tbody>\n",
       "</table>\n",
       "</div>"
      ],
      "text/plain": [
       "             DER       ROE       MVA      SIZE       ROA    target\n",
       "DER     1.000000 -0.111055  0.048022  0.257065 -0.111055  0.024807\n",
       "ROE    -0.111055  1.000000 -0.197581 -0.231532  1.000000  0.156676\n",
       "MVA     0.048022 -0.197581  1.000000  0.759102 -0.197581 -0.067392\n",
       "SIZE    0.257065 -0.231532  0.759102  1.000000 -0.231532  0.042381\n",
       "ROA    -0.111055  1.000000 -0.197581 -0.231532  1.000000  0.156676\n",
       "target  0.024807  0.156676 -0.067392  0.042381  0.156676  1.000000"
      ]
     },
     "execution_count": 98,
     "metadata": {},
     "output_type": "execute_result"
    }
   ],
   "source": [
    "data_train.corr()"
   ]
  },
  {
   "cell_type": "code",
   "execution_count": 100,
   "metadata": {},
   "outputs": [],
   "source": [
    "data.to_excel('./data.xlsx',index=False)"
   ]
  },
  {
   "cell_type": "code",
   "execution_count": 115,
   "metadata": {},
   "outputs": [
    {
     "name": "stdout",
     "output_type": "stream",
     "text": [
      "                            OLS Regression Results                            \n",
      "==============================================================================\n",
      "Dep. Variable:                 target   R-squared:                       0.025\n",
      "Model:                            OLS   Adj. R-squared:                  0.022\n",
      "Method:                 Least Squares   F-statistic:                     9.714\n",
      "Date:                Sun, 26 Jan 2025   Prob (F-statistic):            0.00197\n",
      "Time:                        21:18:26   Log-Likelihood:                -10911.\n",
      "No. Observations:                 388   AIC:                         2.183e+04\n",
      "Df Residuals:                     386   BIC:                         2.183e+04\n",
      "Df Model:                           1                                         \n",
      "Covariance Type:            nonrobust                                         \n",
      "==============================================================================\n",
      "                 coef    std err          t      P>|t|      [0.025      0.975]\n",
      "------------------------------------------------------------------------------\n",
      "const       -2.87e+10   2.86e+10     -1.003      0.316    -8.5e+10    2.76e+10\n",
      "ROE         4.526e+12   1.45e+12      3.117      0.002    1.67e+12    7.38e+12\n",
      "==============================================================================\n",
      "Omnibus:                       77.598   Durbin-Watson:                   2.202\n",
      "Prob(Omnibus):                  0.000   Jarque-Bera (JB):             1132.238\n",
      "Skew:                           0.296   Prob(JB):                    1.37e-246\n",
      "Kurtosis:                      11.348   Cond. No.                         72.2\n",
      "==============================================================================\n",
      "\n",
      "Notes:\n",
      "[1] Standard Errors assume that the covariance matrix of the errors is correctly specified.\n"
     ]
    }
   ],
   "source": [
    "X=data_train[['ROE']]\n",
    "y=data_train['target']\n",
    "# Thêm cột hằng số cho hệ số chặn (Intercept)\n",
    "X_with_const = sm.add_constant(X)\n",
    "\n",
    "# Huấn luyện mô hình hồi quy tuyến tính\n",
    "model = sm.OLS(y, X_with_const).fit()\n",
    "\n",
    "# Kết quả tóm tắt\n",
    "print(model.summary())"
   ]
  },
  {
   "cell_type": "markdown",
   "metadata": {},
   "source": [
    "# 7. Cross Validation"
   ]
  },
  {
   "cell_type": "code",
   "execution_count": 116,
   "metadata": {},
   "outputs": [
    {
     "data": {
      "image/png": "[encoded data removed]",
      "text/plain": [
       "<Figure size 640x480 with 1 Axes>"
      ]
     },
     "metadata": {},
     "output_type": "display_data"
    }
   ],
   "source": [
    "X_new_with_const = sm.add_constant(data['ROE'])\n",
    "y_predict= model.predict(X_new_with_const)\n",
    "\n",
    "plt.plot(data['ROE'],y_predict)\n",
    "plt.scatter(data['ROE'],data['target'])\n",
    "plt.show()"
   ]
  },
  {
   "cell_type": "code",
   "execution_count": 103,
   "metadata": {},
   "outputs": [],
   "source": [
    "# Dự đoán\n",
    "X_new = np.linspace(0, 12, 10)  # Tạo giá trị mới để dự đoán\n",
    "X_new_with_const = sm.add_constant(X_new)\n",
    "y_predict= model.predict(X_new_with_const)\n",
    "y_True=3*X_new+2"
   ]
  },
  {
   "cell_type": "code",
   "execution_count": 7,
   "metadata": {},
   "outputs": [
    {
     "data": {
      "image/png": "[encoded data removed]",
      "text/plain": [
       "<Figure size 500x300 with 1 Axes>"
      ]
     },
     "metadata": {},
     "output_type": "display_data"
    }
   ],
   "source": [
    "plt.figure(figsize=(5,3))\n",
    "plt.plot(X_new,y_predict,label='Regression Line')\n",
    "plt.plot(X_new,y_True,label='Original Data')\n",
    "plt.legend()\n",
    "plt.show()"
   ]
  },
  {
   "cell_type": "markdown",
   "metadata": {},
   "source": [
    "# 8. Finnal model"
   ]
  },
  {
   "cell_type": "code",
   "execution_count": null,
   "metadata": {},
   "outputs": [],
   "source": [
    "x= 2\n",
    "y =3\n"
   ]
  }
 ],
 "metadata": {
  "kernelspec": {
   "display_name": "env",
   "language": "python",
   "name": "python3"
  },
  "language_info": {
   "codemirror_mode": {
    "name": "ipython",
    "version": 3
   },
   "file_extension": ".py",
   "mimetype": "text/x-python",
   "name": "python",
   "nbconvert_exporter": "python",
   "pygments_lexer": "ipython3",
   "version": "3.10.16"
  }
 },
 "nbformat": 4,
 "nbformat_minor": 2
}
