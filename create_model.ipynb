{
 "cells": [
  {
   "cell_type": "markdown",
   "metadata": {},
   "source": [
    "# 1 . Thư viện"
   ]
  },
  {
   "cell_type": "code",
   "execution_count": 9,
   "metadata": {},
   "outputs": [],
   "source": [
    "import numpy as np\n",
    "import statsmodels.api as sm\n",
    "import matplotlib.pyplot as plt"
   ]
  },
  {
   "cell_type": "markdown",
   "metadata": {},
   "source": [
    "# 2. Function"
   ]
  },
  {
   "cell_type": "code",
   "execution_count": null,
   "metadata": {},
   "outputs": [],
   "source": []
  },
  {
   "cell_type": "markdown",
   "metadata": {},
   "source": [
    "# 3. Import data"
   ]
  },
  {
   "cell_type": "code",
   "execution_count": 2,
   "metadata": {},
   "outputs": [],
   "source": [
    "# Tạo dữ liệu mẫu\n",
    "np.random.seed(42)  # Để kết quả ngẫu nhiên ổn định\n",
    "X = np.linspace(0, 10, 50)  # Biến độc lập\n",
    "noise = np.random.normal(0, 1, 50)  # Nhiễu (noise)\n",
    "y = 3 * X + 2 + noise  # Biến phụ thuộc với nhiễu"
   ]
  },
  {
   "cell_type": "markdown",
   "metadata": {},
   "source": [
    "# 4. Processing data"
   ]
  },
  {
   "cell_type": "code",
   "execution_count": null,
   "metadata": {},
   "outputs": [],
   "source": []
  },
  {
   "cell_type": "markdown",
   "metadata": {},
   "source": [
    "# 5. Variable expansion"
   ]
  },
  {
   "cell_type": "code",
   "execution_count": null,
   "metadata": {},
   "outputs": [],
   "source": []
  },
  {
   "cell_type": "markdown",
   "metadata": {},
   "source": [
    "# 6 Train model"
   ]
  },
  {
   "cell_type": "code",
   "execution_count": 3,
   "metadata": {},
   "outputs": [
    {
     "name": "stdout",
     "output_type": "stream",
     "text": [
      "                            OLS Regression Results                            \n",
      "==============================================================================\n",
      "Dep. Variable:                      y   R-squared:                       0.989\n",
      "Model:                            OLS   Adj. R-squared:                  0.989\n",
      "Method:                 Least Squares   F-statistic:                     4367.\n",
      "Date:                Wed, 22 Jan 2025   Prob (F-statistic):           8.56e-49\n",
      "Time:                        15:00:24   Log-Likelihood:                -66.142\n",
      "No. Observations:                  50   AIC:                             136.3\n",
      "Df Residuals:                      48   BIC:                             140.1\n",
      "Df Model:                           1                                         \n",
      "Covariance Type:            nonrobust                                         \n",
      "==============================================================================\n",
      "                 coef    std err          t      P>|t|      [0.025      0.975]\n",
      "------------------------------------------------------------------------------\n",
      "const          2.0644      0.258      7.991      0.000       1.545       2.584\n",
      "x1             2.9420      0.045     66.084      0.000       2.853       3.032\n",
      "==============================================================================\n",
      "Omnibus:                        0.453   Durbin-Watson:                   1.942\n",
      "Prob(Omnibus):                  0.798   Jarque-Bera (JB):                0.608\n",
      "Skew:                           0.156   Prob(JB):                        0.738\n",
      "Kurtosis:                       2.559   Cond. No.                         11.7\n",
      "==============================================================================\n",
      "\n",
      "Notes:\n",
      "[1] Standard Errors assume that the covariance matrix of the errors is correctly specified.\n"
     ]
    }
   ],
   "source": [
    "# Thêm cột hằng số cho hệ số chặn (Intercept)\n",
    "X_with_const = sm.add_constant(X)\n",
    "\n",
    "# Huấn luyện mô hình hồi quy tuyến tính\n",
    "model = sm.OLS(y, X_with_const).fit()\n",
    "\n",
    "# Kết quả tóm tắt\n",
    "print(model.summary())"
   ]
  },
  {
   "cell_type": "markdown",
   "metadata": {},
   "source": [
    "# 7. Cross Validation"
   ]
  },
  {
   "cell_type": "code",
   "execution_count": 18,
   "metadata": {},
   "outputs": [],
   "source": [
    "# Dự đoán\n",
    "X_new = np.linspace(0, 12, 10)  # Tạo giá trị mới để dự đoán\n",
    "X_new_with_const = sm.add_constant(X_new)\n",
    "y_predict= model.predict(X_new_with_const)\n",
    "y_True=3*X_new+2"
   ]
  },
  {
   "cell_type": "code",
   "execution_count": 20,
   "metadata": {},
   "outputs": [
    {
     "data": {
      "image/png": "[encoded data removed]",
      "text/plain": [
       "<Figure size 640x480 with 1 Axes>"
      ]
     },
     "metadata": {},
     "output_type": "display_data"
    }
   ],
   "source": [
    "plt.plot(X_new,y_predict,label='Regression Line')\n",
    "plt.plot(X_new,y_True,label='Original Data')\n",
    "plt.legend()\n",
    "plt.show()"
   ]
  },
  {
   "cell_type": "markdown",
   "metadata": {},
   "source": [
    "# 8. Finnal model"
   ]
  },
  {
   "cell_type": "code",
   "execution_count": null,
   "metadata": {},
   "outputs": [],
   "source": []
  }
 ],
 "metadata": {
  "kernelspec": {
   "display_name": "env_Project2025",
   "language": "python",
   "name": "python3"
  },
  "language_info": {
   "codemirror_mode": {
    "name": "ipython",
    "version": 3
   },
   "file_extension": ".py",
   "mimetype": "text/x-python",
   "name": "python",
   "nbconvert_exporter": "python",
   "pygments_lexer": "ipython3",
   "version": "3.9.21"
  }
 },
 "nbformat": 4,
 "nbformat_minor": 2
}
