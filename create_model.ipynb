{
 "cells": [
  {
   "cell_type": "markdown",
   "metadata": {},
   "source": [
    "# 1 . Thư viện"
   ]
  },
  {
   "cell_type": "code",
   "execution_count": 2,
   "metadata": {},
   "outputs": [],
   "source": [
    "import numpy as np\n",
    "import statsmodels.api as sm\n",
    "import matplotlib.pyplot as plt\n",
    "from vnstock.explorer.vci.financial import Finance\n",
    "import pandas as pd\n"
   ]
  },
  {
   "cell_type": "markdown",
   "metadata": {},
   "source": [
    "# 2. Function"
   ]
  },
  {
   "cell_type": "code",
   "execution_count": null,
   "metadata": {},
   "outputs": [],
   "source": [
    "\n"
   ]
  },
  {
   "cell_type": "markdown",
   "metadata": {},
   "source": [
    "# 3. Import data"
   ]
  },
  {
   "cell_type": "code",
   "execution_count": 7,
   "metadata": {},
   "outputs": [],
   "source": [
    "#list cổ phiếu thuộc ngành sản xuất và midcap\n",
    "list_stock=['ASM', 'CII', 'BWE', 'ANV', 'CTD', 'CRE', 'CMG', 'AAA', 'CTR']\n",
    "\n",
    "#create một date-table rỗng\n",
    "df_result=pd.DataFrame()\n",
    "for stock in list_stock: #cho chạy stock chạy qua từng biến trong list_stock\n",
    "    report = Finance(symbol=stock,period='quarter' )   # gán dữ liệu vào report ; Finance : một loại truy xuất từ các bài báo : symbol : tham số đại diện cho mã cổ phiếu, period : xác định kỳ của báo cáo tài chính là theo quý )\n",
    "    data=report.balance_sheet(lang='vi')\n",
    "    df_result=pd.concat([df_result,data])\n",
    "\n",
    "df_result.to_csv('./data.csv',index=False)"
   ]
  },
  {
   "cell_type": "code",
   "execution_count": 8,
   "metadata": {},
   "outputs": [],
   "source": [
    "data=pd.read_csv('./data.csv')"
   ]
  },
  {
   "cell_type": "markdown",
   "metadata": {},
   "source": [
    "# 4. Processing data"
   ]
  },
  {
   "cell_type": "code",
   "execution_count": null,
   "metadata": {},
   "outputs": [],
   "source": []
  },
  {
   "cell_type": "markdown",
   "metadata": {},
   "source": [
    "# 5. Variable expansion"
   ]
  },
  {
   "cell_type": "code",
   "execution_count": 9,
   "metadata": {},
   "outputs": [
    {
     "data": {
      "text/plain": [
       "Index(['CP', 'Năm', 'Kỳ', 'TÀI SẢN NGẮN HẠN (Tỷ đồng)',\n",
       "       'Tiền và tương đương tiền (Tỷ đồng)',\n",
       "       'Giá trị thuần đầu tư ngắn hạn (Tỷ đồng)',\n",
       "       'Các khoản phải thu ngắn hạn (Tỷ đồng)', 'Hàng tồn kho ròng',\n",
       "       'Tài sản lưu động khác', 'TÀI SẢN DÀI HẠN (Tỷ đồng)',\n",
       "       'Phải thu về cho vay dài hạn (Tỷ đồng)', 'Tài sản cố định (Tỷ đồng)',\n",
       "       'Giá trị ròng tài sản đầu tư', 'Đầu tư dài hạn (Tỷ đồng)',\n",
       "       'Lợi thế thương mại', 'Tài sản dài hạn khác',\n",
       "       'TỔNG CỘNG TÀI SẢN (Tỷ đồng)', 'NỢ PHẢI TRẢ (Tỷ đồng)',\n",
       "       'Nợ ngắn hạn (Tỷ đồng)', 'Nợ dài hạn (Tỷ đồng)',\n",
       "       'VỐN CHỦ SỞ HỮU (Tỷ đồng)', 'Vốn và các quỹ (Tỷ đồng)', 'Các quỹ khác',\n",
       "       'Lãi chưa phân phối (Tỷ đồng)', 'Vốn Ngân sách nhà nước và quỹ khác',\n",
       "       'LỢI ÍCH CỦA CỔ ĐÔNG THIỂU SỐ', 'TỔNG CỘNG NGUỒN VỐN (Tỷ đồng)',\n",
       "       'Trả trước cho người bán ngắn hạn (Tỷ đồng)',\n",
       "       'Phải thu về cho vay ngắn hạn (Tỷ đồng)',\n",
       "       'Hàng tồn kho, ròng (Tỷ đồng)', 'Tài sản lưu động khác (Tỷ đồng)',\n",
       "       'Quỹ đầu tư và phát triển (Tỷ đồng)', 'Cổ phiếu phổ thông (Tỷ đồng)',\n",
       "       'Vốn góp của chủ sở hữu (Tỷ đồng)',\n",
       "       'Vay và nợ thuê tài chính dài hạn (Tỷ đồng)',\n",
       "       'Người mua trả tiền trước ngắn hạn (Tỷ đồng)',\n",
       "       'Vay và nợ thuê tài chính ngắn hạn (Tỷ đồng)',\n",
       "       'Lợi thế thương mại (Tỷ đồng)', 'Trả trước dài hạn (Tỷ đồng)',\n",
       "       'Tài sản dài hạn khác (Tỷ đồng)', 'Phải thu dài hạn khác (Tỷ đồng)',\n",
       "       'Phải thu dài hạn (Tỷ đồng)', 'Trái phiếu chuyển đổi (Tỷ đồng)'],\n",
       "      dtype='object')"
      ]
     },
     "execution_count": 9,
     "metadata": {},
     "output_type": "execute_result"
    }
   ],
   "source": [
    "data.columns"
   ]
  },
  {
   "cell_type": "code",
   "execution_count": 10,
   "metadata": {},
   "outputs": [
    {
     "data": {
      "text/html": [
       "<div>\n",
       "<style scoped>\n",
       "    .dataframe tbody tr th:only-of-type {\n",
       "        vertical-align: middle;\n",
       "    }\n",
       "\n",
       "    .dataframe tbody tr th {\n",
       "        vertical-align: top;\n",
       "    }\n",
       "\n",
       "    .dataframe thead th {\n",
       "        text-align: right;\n",
       "    }\n",
       "</style>\n",
       "<table border=\"1\" class=\"dataframe\">\n",
       "  <thead>\n",
       "    <tr style=\"text-align: right;\">\n",
       "      <th></th>\n",
       "      <th>CP</th>\n",
       "      <th>Năm</th>\n",
       "      <th>Kỳ</th>\n",
       "      <th>TÀI SẢN NGẮN HẠN (Tỷ đồng)</th>\n",
       "      <th>Tiền và tương đương tiền (Tỷ đồng)</th>\n",
       "      <th>Giá trị thuần đầu tư ngắn hạn (Tỷ đồng)</th>\n",
       "      <th>Các khoản phải thu ngắn hạn (Tỷ đồng)</th>\n",
       "      <th>Hàng tồn kho ròng</th>\n",
       "      <th>Tài sản lưu động khác</th>\n",
       "      <th>TÀI SẢN DÀI HẠN (Tỷ đồng)</th>\n",
       "      <th>...</th>\n",
       "      <th>Vốn góp của chủ sở hữu (Tỷ đồng)</th>\n",
       "      <th>Vay và nợ thuê tài chính dài hạn (Tỷ đồng)</th>\n",
       "      <th>Người mua trả tiền trước ngắn hạn (Tỷ đồng)</th>\n",
       "      <th>Vay và nợ thuê tài chính ngắn hạn (Tỷ đồng)</th>\n",
       "      <th>Lợi thế thương mại (Tỷ đồng)</th>\n",
       "      <th>Trả trước dài hạn (Tỷ đồng)</th>\n",
       "      <th>Tài sản dài hạn khác (Tỷ đồng)</th>\n",
       "      <th>Phải thu dài hạn khác (Tỷ đồng)</th>\n",
       "      <th>Phải thu dài hạn (Tỷ đồng)</th>\n",
       "      <th>Trái phiếu chuyển đổi (Tỷ đồng)</th>\n",
       "    </tr>\n",
       "  </thead>\n",
       "  <tbody>\n",
       "    <tr>\n",
       "      <th>0</th>\n",
       "      <td>ASM</td>\n",
       "      <td>2024</td>\n",
       "      <td>3</td>\n",
       "      <td>11722123395180</td>\n",
       "      <td>660403660947</td>\n",
       "      <td>1294633110421</td>\n",
       "      <td>5152481932450</td>\n",
       "      <td>4553874648376</td>\n",
       "      <td>60730042986</td>\n",
       "      <td>9080308475363</td>\n",
       "      <td>...</td>\n",
       "      <td>3701782500000</td>\n",
       "      <td>4476571304260</td>\n",
       "      <td>226262008913</td>\n",
       "      <td>6861319036422</td>\n",
       "      <td>3.641716e+11</td>\n",
       "      <td>628299308360</td>\n",
       "      <td>2.000000e+09</td>\n",
       "      <td>3.382323e+10</td>\n",
       "      <td>33837734163</td>\n",
       "      <td>NaN</td>\n",
       "    </tr>\n",
       "    <tr>\n",
       "      <th>1</th>\n",
       "      <td>ASM</td>\n",
       "      <td>2024</td>\n",
       "      <td>2</td>\n",
       "      <td>11481019688075</td>\n",
       "      <td>723619472881</td>\n",
       "      <td>1237963601506</td>\n",
       "      <td>5147764171630</td>\n",
       "      <td>4310154128162</td>\n",
       "      <td>61518313896</td>\n",
       "      <td>9151457740837</td>\n",
       "      <td>...</td>\n",
       "      <td>3365267520000</td>\n",
       "      <td>4310462628954</td>\n",
       "      <td>218047641221</td>\n",
       "      <td>6945704939712</td>\n",
       "      <td>3.725117e+11</td>\n",
       "      <td>635320604426</td>\n",
       "      <td>2.000000e+09</td>\n",
       "      <td>3.334922e+10</td>\n",
       "      <td>33363720763</td>\n",
       "      <td>NaN</td>\n",
       "    </tr>\n",
       "    <tr>\n",
       "      <th>2</th>\n",
       "      <td>ASM</td>\n",
       "      <td>2024</td>\n",
       "      <td>1</td>\n",
       "      <td>10999184770663</td>\n",
       "      <td>657496133753</td>\n",
       "      <td>1153509626518</td>\n",
       "      <td>4687404575326</td>\n",
       "      <td>4440092791223</td>\n",
       "      <td>60681643843</td>\n",
       "      <td>9295012589864</td>\n",
       "      <td>...</td>\n",
       "      <td>3365267520000</td>\n",
       "      <td>4359123189125</td>\n",
       "      <td>418094119169</td>\n",
       "      <td>6335976632560</td>\n",
       "      <td>3.895714e+11</td>\n",
       "      <td>645473724807</td>\n",
       "      <td>2.000000e+09</td>\n",
       "      <td>3.323135e+10</td>\n",
       "      <td>33245850763</td>\n",
       "      <td>NaN</td>\n",
       "    </tr>\n",
       "    <tr>\n",
       "      <th>3</th>\n",
       "      <td>ASM</td>\n",
       "      <td>2023</td>\n",
       "      <td>4</td>\n",
       "      <td>11097792363751</td>\n",
       "      <td>1365027739995</td>\n",
       "      <td>981956468827</td>\n",
       "      <td>4132243385406</td>\n",
       "      <td>4555774826135</td>\n",
       "      <td>62789943388</td>\n",
       "      <td>9217182495373</td>\n",
       "      <td>...</td>\n",
       "      <td>3365267520000</td>\n",
       "      <td>4579700947976</td>\n",
       "      <td>382783964460</td>\n",
       "      <td>6202057761377</td>\n",
       "      <td>4.066311e+11</td>\n",
       "      <td>656551695561</td>\n",
       "      <td>2.000000e+09</td>\n",
       "      <td>3.534935e+10</td>\n",
       "      <td>35363850763</td>\n",
       "      <td>NaN</td>\n",
       "    </tr>\n",
       "    <tr>\n",
       "      <th>4</th>\n",
       "      <td>ASM</td>\n",
       "      <td>2023</td>\n",
       "      <td>3</td>\n",
       "      <td>10011105362841</td>\n",
       "      <td>859294255163</td>\n",
       "      <td>1101796017811</td>\n",
       "      <td>4309319804698</td>\n",
       "      <td>3659916365273</td>\n",
       "      <td>80778919896</td>\n",
       "      <td>9402997612550</td>\n",
       "      <td>...</td>\n",
       "      <td>3365267520000</td>\n",
       "      <td>4260742040095</td>\n",
       "      <td>405399624886</td>\n",
       "      <td>5864504317714</td>\n",
       "      <td>4.236907e+11</td>\n",
       "      <td>635294635392</td>\n",
       "      <td>2.111111e+09</td>\n",
       "      <td>3.750308e+10</td>\n",
       "      <td>37517583329</td>\n",
       "      <td>NaN</td>\n",
       "    </tr>\n",
       "  </tbody>\n",
       "</table>\n",
       "<p>5 rows × 43 columns</p>\n",
       "</div>"
      ],
      "text/plain": [
       "    CP   Năm  Kỳ  TÀI SẢN NGẮN HẠN (Tỷ đồng)  \\\n",
       "0  ASM  2024   3              11722123395180   \n",
       "1  ASM  2024   2              11481019688075   \n",
       "2  ASM  2024   1              10999184770663   \n",
       "3  ASM  2023   4              11097792363751   \n",
       "4  ASM  2023   3              10011105362841   \n",
       "\n",
       "   Tiền và tương đương tiền (Tỷ đồng)  \\\n",
       "0                        660403660947   \n",
       "1                        723619472881   \n",
       "2                        657496133753   \n",
       "3                       1365027739995   \n",
       "4                        859294255163   \n",
       "\n",
       "   Giá trị thuần đầu tư ngắn hạn (Tỷ đồng)  \\\n",
       "0                            1294633110421   \n",
       "1                            1237963601506   \n",
       "2                            1153509626518   \n",
       "3                             981956468827   \n",
       "4                            1101796017811   \n",
       "\n",
       "   Các khoản phải thu ngắn hạn (Tỷ đồng)  Hàng tồn kho ròng  \\\n",
       "0                          5152481932450      4553874648376   \n",
       "1                          5147764171630      4310154128162   \n",
       "2                          4687404575326      4440092791223   \n",
       "3                          4132243385406      4555774826135   \n",
       "4                          4309319804698      3659916365273   \n",
       "\n",
       "   Tài sản lưu động khác  TÀI SẢN DÀI HẠN (Tỷ đồng)  ...  \\\n",
       "0            60730042986              9080308475363  ...   \n",
       "1            61518313896              9151457740837  ...   \n",
       "2            60681643843              9295012589864  ...   \n",
       "3            62789943388              9217182495373  ...   \n",
       "4            80778919896              9402997612550  ...   \n",
       "\n",
       "   Vốn góp của chủ sở hữu (Tỷ đồng)  \\\n",
       "0                     3701782500000   \n",
       "1                     3365267520000   \n",
       "2                     3365267520000   \n",
       "3                     3365267520000   \n",
       "4                     3365267520000   \n",
       "\n",
       "   Vay và nợ thuê tài chính dài hạn (Tỷ đồng)  \\\n",
       "0                               4476571304260   \n",
       "1                               4310462628954   \n",
       "2                               4359123189125   \n",
       "3                               4579700947976   \n",
       "4                               4260742040095   \n",
       "\n",
       "   Người mua trả tiền trước ngắn hạn (Tỷ đồng)  \\\n",
       "0                                 226262008913   \n",
       "1                                 218047641221   \n",
       "2                                 418094119169   \n",
       "3                                 382783964460   \n",
       "4                                 405399624886   \n",
       "\n",
       "   Vay và nợ thuê tài chính ngắn hạn (Tỷ đồng)  Lợi thế thương mại (Tỷ đồng)  \\\n",
       "0                                6861319036422                  3.641716e+11   \n",
       "1                                6945704939712                  3.725117e+11   \n",
       "2                                6335976632560                  3.895714e+11   \n",
       "3                                6202057761377                  4.066311e+11   \n",
       "4                                5864504317714                  4.236907e+11   \n",
       "\n",
       "   Trả trước dài hạn (Tỷ đồng)  Tài sản dài hạn khác (Tỷ đồng)  \\\n",
       "0                 628299308360                    2.000000e+09   \n",
       "1                 635320604426                    2.000000e+09   \n",
       "2                 645473724807                    2.000000e+09   \n",
       "3                 656551695561                    2.000000e+09   \n",
       "4                 635294635392                    2.111111e+09   \n",
       "\n",
       "   Phải thu dài hạn khác (Tỷ đồng)  Phải thu dài hạn (Tỷ đồng)  \\\n",
       "0                     3.382323e+10                 33837734163   \n",
       "1                     3.334922e+10                 33363720763   \n",
       "2                     3.323135e+10                 33245850763   \n",
       "3                     3.534935e+10                 35363850763   \n",
       "4                     3.750308e+10                 37517583329   \n",
       "\n",
       "   Trái phiếu chuyển đổi (Tỷ đồng)  \n",
       "0                              NaN  \n",
       "1                              NaN  \n",
       "2                              NaN  \n",
       "3                              NaN  \n",
       "4                              NaN  \n",
       "\n",
       "[5 rows x 43 columns]"
      ]
     },
     "execution_count": 10,
     "metadata": {},
     "output_type": "execute_result"
    }
   ],
   "source": [
    "data.head()"
   ]
  },
  {
   "cell_type": "markdown",
   "metadata": {},
   "source": [
    "# 6 Train model\n",
    "> Cái cần quan tâm ở đây là:\n",
    "* coef (Hệ số hồi quy) : Hệ số đứng trước biến\n",
    "* P>|t| (Ý nghĩa thống kê của hệ số hồi quy) : Nếu nhỏ hơn 0.05 thì coef có ý nghĩa thống kê\n",
    "* R-squared (Hệ số xác định của mô hình) : Thể hiện mức độ giải thích của các biến độc lập lên biến phục thuộc\n",
    "* Prob (F-statistic) : Kiểm định mô hình (không nhớ rõ tên gọi). Nếu <0.05 thì mô hình có ý nghĩa thống kê"
   ]
  },
  {
   "cell_type": "code",
   "execution_count": 5,
   "metadata": {},
   "outputs": [
    {
     "name": "stdout",
     "output_type": "stream",
     "text": [
      "                            OLS Regression Results                            \n",
      "==============================================================================\n",
      "Dep. Variable:                      y   R-squared:                       0.989\n",
      "Model:                            OLS   Adj. R-squared:                  0.989\n",
      "Method:                 Least Squares   F-statistic:                     4367.\n",
      "Date:                Wed, 22 Jan 2025   Prob (F-statistic):           8.56e-49\n",
      "Time:                        22:22:19   Log-Likelihood:                -66.142\n",
      "No. Observations:                  50   AIC:                             136.3\n",
      "Df Residuals:                      48   BIC:                             140.1\n",
      "Df Model:                           1                                         \n",
      "Covariance Type:            nonrobust                                         \n",
      "==============================================================================\n",
      "                 coef    std err          t      P>|t|      [0.025      0.975]\n",
      "------------------------------------------------------------------------------\n",
      "const          2.0644      0.258      7.991      0.000       1.545       2.584\n",
      "x1             2.9420      0.045     66.084      0.000       2.853       3.032\n",
      "==============================================================================\n",
      "Omnibus:                        0.453   Durbin-Watson:                   1.942\n",
      "Prob(Omnibus):                  0.798   Jarque-Bera (JB):                0.608\n",
      "Skew:                           0.156   Prob(JB):                        0.738\n",
      "Kurtosis:                       2.559   Cond. No.                         11.7\n",
      "==============================================================================\n",
      "\n",
      "Notes:\n",
      "[1] Standard Errors assume that the covariance matrix of the errors is correctly specified.\n"
     ]
    }
   ],
   "source": [
    "# Thêm cột hằng số cho hệ số chặn (Intercept)\n",
    "X_with_const = sm.add_constant(X)\n",
    "\n",
    "# Huấn luyện mô hình hồi quy tuyến tính\n",
    "model = sm.OLS(y, X_with_const).fit()\n",
    "\n",
    "# Kết quả tóm tắt\n",
    "print(model.summary())"
   ]
  },
  {
   "cell_type": "markdown",
   "metadata": {},
   "source": [
    "# 7. Cross Validation"
   ]
  },
  {
   "cell_type": "code",
   "execution_count": 6,
   "metadata": {},
   "outputs": [],
   "source": [
    "# Dự đoán\n",
    "X_new = np.linspace(0, 12, 10)  # Tạo giá trị mới để dự đoán\n",
    "X_new_with_const = sm.add_constant(X_new)\n",
    "y_predict= model.predict(X_new_with_const)\n",
    "y_True=3*X_new+2"
   ]
  },
  {
   "cell_type": "code",
   "execution_count": 7,
   "metadata": {},
   "outputs": [
    {
     "data": {
      "image/png": "[encoded data removed]",
      "text/plain": [
       "<Figure size 500x300 with 1 Axes>"
      ]
     },
     "metadata": {},
     "output_type": "display_data"
    }
   ],
   "source": [
    "plt.figure(figsize=(5,3))\n",
    "plt.plot(X_new,y_predict,label='Regression Line')\n",
    "plt.plot(X_new,y_True,label='Original Data')\n",
    "plt.legend()\n",
    "plt.show()"
   ]
  },
  {
   "cell_type": "markdown",
   "metadata": {},
   "source": [
    "# 8. Finnal model"
   ]
  },
  {
   "cell_type": "code",
   "execution_count": null,
   "metadata": {},
   "outputs": [],
   "source": [
    "x= 2\n",
    "y =3\n"
   ]
  }
 ],
 "metadata": {
  "kernelspec": {
   "display_name": "env",
   "language": "python",
   "name": "python3"
  },
  "language_info": {
   "codemirror_mode": {
    "name": "ipython",
    "version": 3
   },
   "file_extension": ".py",
   "mimetype": "text/x-python",
   "name": "python",
   "nbconvert_exporter": "python",
   "pygments_lexer": "ipython3",
   "version": "3.10.16"
  }
 },
 "nbformat": 4,
 "nbformat_minor": 2
}
