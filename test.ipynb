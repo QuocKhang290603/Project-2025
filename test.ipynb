{
 "cells": [
  {
   "cell_type": "code",
   "execution_count": null,
   "metadata": {},
   "outputs": [],
   "source": []
  },
  {
   "cell_type": "code",
   "execution_count": 1,
   "metadata": {},
   "outputs": [
    {
     "name": "stdout",
     "output_type": "stream",
     "text": [
      "\n",
      "    Khi tiếp tục sử dụng Vnstock3, bạn xác nhận rằng bạn đã đọc, hiểu và đồng ý với Chính sách quyền riêng tư và Điều khoản, điều kiện về giấy phép sử dụng Vnstock3.\n",
      "\n",
      "    Chi tiết:\n",
      "\n",
      "    - Giấy phép sử dụng phần mềm: https://vnstocks.com/docs/tai-lieu/giay-phep-su-dung\n",
      "    - Chính sách quyền riêng tư: https://vnstocks.com/docs/tai-lieu/chinh-sach-quyen-rieng-tu\n",
      "    \n"
     ]
    },
    {
     "name": "stderr",
     "output_type": "stream",
     "text": [
      "2025-01-25 21:15:23 - vnstock.common.data.data_explorer - WARNING - Thông tin niêm yết & giao dịch sẽ được truy xuất từ TCBS\n"
     ]
    }
   ],
   "source": [
    "from vnstock import Vnstock \n",
    "stock = Vnstock().stock(symbol='ACB', source='VCI')"
   ]
  },
  {
   "cell_type": "code",
   "execution_count": 2,
   "metadata": {},
   "outputs": [
    {
     "data": {
      "text/html": [
       "<div>\n",
       "<style scoped>\n",
       "    .dataframe tbody tr th:only-of-type {\n",
       "        vertical-align: middle;\n",
       "    }\n",
       "\n",
       "    .dataframe tbody tr th {\n",
       "        vertical-align: top;\n",
       "    }\n",
       "\n",
       "    .dataframe thead th {\n",
       "        text-align: right;\n",
       "    }\n",
       "</style>\n",
       "<table border=\"1\" class=\"dataframe\">\n",
       "  <thead>\n",
       "    <tr style=\"text-align: right;\">\n",
       "      <th></th>\n",
       "      <th>ticker</th>\n",
       "      <th>organ_name</th>\n",
       "    </tr>\n",
       "  </thead>\n",
       "  <tbody>\n",
       "    <tr>\n",
       "      <th>0</th>\n",
       "      <td>A32</td>\n",
       "      <td>Công ty Cổ phần 32</td>\n",
       "    </tr>\n",
       "    <tr>\n",
       "      <th>1</th>\n",
       "      <td>AAA</td>\n",
       "      <td>Công ty Cổ phần Nhựa An Phát Xanh</td>\n",
       "    </tr>\n",
       "    <tr>\n",
       "      <th>2</th>\n",
       "      <td>AAM</td>\n",
       "      <td>Công ty Cổ Phần Thủy Sản MeKong</td>\n",
       "    </tr>\n",
       "    <tr>\n",
       "      <th>3</th>\n",
       "      <td>AAS</td>\n",
       "      <td>Công ty Cổ phần Chứng khoán SmartInvest</td>\n",
       "    </tr>\n",
       "    <tr>\n",
       "      <th>4</th>\n",
       "      <td>AAT</td>\n",
       "      <td>Công ty Cổ phần Tập đoàn Tiên Sơn Thanh Hóa</td>\n",
       "    </tr>\n",
       "    <tr>\n",
       "      <th>...</th>\n",
       "      <td>...</td>\n",
       "      <td>...</td>\n",
       "    </tr>\n",
       "    <tr>\n",
       "      <th>1593</th>\n",
       "      <td>XPH</td>\n",
       "      <td>Công ty Cổ phần Xà phòng Hà Nội</td>\n",
       "    </tr>\n",
       "    <tr>\n",
       "      <th>1594</th>\n",
       "      <td>YBC</td>\n",
       "      <td>Công ty Cổ phần Xi măng và Khoáng sản Yên Bái</td>\n",
       "    </tr>\n",
       "    <tr>\n",
       "      <th>1595</th>\n",
       "      <td>YBM</td>\n",
       "      <td>Công ty Cổ phần Khoáng sản Công nghiệp Yên Bái</td>\n",
       "    </tr>\n",
       "    <tr>\n",
       "      <th>1596</th>\n",
       "      <td>YEG</td>\n",
       "      <td>Công ty Cổ phần Tập đoàn Yeah1</td>\n",
       "    </tr>\n",
       "    <tr>\n",
       "      <th>1597</th>\n",
       "      <td>YTC</td>\n",
       "      <td>Công ty Cổ phần Xuất nhập khẩu Y tế Thành phố ...</td>\n",
       "    </tr>\n",
       "  </tbody>\n",
       "</table>\n",
       "<p>1598 rows × 2 columns</p>\n",
       "</div>"
      ],
      "text/plain": [
       "     ticker                                         organ_name\n",
       "0       A32                                 Công ty Cổ phần 32\n",
       "1       AAA                  Công ty Cổ phần Nhựa An Phát Xanh\n",
       "2       AAM                    Công ty Cổ Phần Thủy Sản MeKong\n",
       "3       AAS            Công ty Cổ phần Chứng khoán SmartInvest\n",
       "4       AAT        Công ty Cổ phần Tập đoàn Tiên Sơn Thanh Hóa\n",
       "...     ...                                                ...\n",
       "1593    XPH                    Công ty Cổ phần Xà phòng Hà Nội\n",
       "1594    YBC      Công ty Cổ phần Xi măng và Khoáng sản Yên Bái\n",
       "1595    YBM     Công ty Cổ phần Khoáng sản Công nghiệp Yên Bái\n",
       "1596    YEG                     Công ty Cổ phần Tập đoàn Yeah1\n",
       "1597    YTC  Công ty Cổ phần Xuất nhập khẩu Y tế Thành phố ...\n",
       "\n",
       "[1598 rows x 2 columns]"
      ]
     },
     "execution_count": 2,
     "metadata": {},
     "output_type": "execute_result"
    }
   ],
   "source": [
    "stock.listing.all_symbols()"
   ]
  },
  {
   "cell_type": "code",
   "execution_count": 3,
   "metadata": {},
   "outputs": [
    {
     "data": {
      "text/plain": [
       "0     ACB\n",
       "1     BCM\n",
       "2     BID\n",
       "3     BVH\n",
       "4     CTG\n",
       "5     FPT\n",
       "6     GAS\n",
       "7     GVR\n",
       "8     HDB\n",
       "9     HPG\n",
       "10    MBB\n",
       "11    MSN\n",
       "12    MWG\n",
       "13    PLX\n",
       "14    POW\n",
       "15    SAB\n",
       "16    SHB\n",
       "17    SSB\n",
       "18    SSI\n",
       "19    STB\n",
       "20    TCB\n",
       "21    TPB\n",
       "22    VCB\n",
       "23    VHM\n",
       "24    VIB\n",
       "25    VIC\n",
       "26    VJC\n",
       "27    VNM\n",
       "28    VPB\n",
       "29    VRE\n",
       "Name: symbol, dtype: object"
      ]
     },
     "execution_count": 3,
     "metadata": {},
     "output_type": "execute_result"
    }
   ],
   "source": [
    "stock.listing.symbols_by_group()"
   ]
  },
  {
   "cell_type": "code",
   "execution_count": 5,
   "metadata": {},
   "outputs": [
    {
     "data": {
      "text/html": [
       "<div>\n",
       "<style scoped>\n",
       "    .dataframe tbody tr th:only-of-type {\n",
       "        vertical-align: middle;\n",
       "    }\n",
       "\n",
       "    .dataframe tbody tr th {\n",
       "        vertical-align: top;\n",
       "    }\n",
       "\n",
       "    .dataframe thead th {\n",
       "        text-align: right;\n",
       "    }\n",
       "</style>\n",
       "<table border=\"1\" class=\"dataframe\">\n",
       "  <thead>\n",
       "    <tr style=\"text-align: right;\">\n",
       "      <th></th>\n",
       "      <th>time</th>\n",
       "      <th>open</th>\n",
       "      <th>high</th>\n",
       "      <th>low</th>\n",
       "      <th>close</th>\n",
       "      <th>volume</th>\n",
       "    </tr>\n",
       "  </thead>\n",
       "  <tbody>\n",
       "    <tr>\n",
       "      <th>0</th>\n",
       "      <td>2024-01-25</td>\n",
       "      <td>21.71</td>\n",
       "      <td>21.76</td>\n",
       "      <td>21.50</td>\n",
       "      <td>21.67</td>\n",
       "      <td>5090360</td>\n",
       "    </tr>\n",
       "    <tr>\n",
       "      <th>1</th>\n",
       "      <td>2024-01-26</td>\n",
       "      <td>21.71</td>\n",
       "      <td>22.18</td>\n",
       "      <td>21.71</td>\n",
       "      <td>22.09</td>\n",
       "      <td>6861782</td>\n",
       "    </tr>\n",
       "    <tr>\n",
       "      <th>2</th>\n",
       "      <td>2024-01-29</td>\n",
       "      <td>22.26</td>\n",
       "      <td>22.26</td>\n",
       "      <td>21.80</td>\n",
       "      <td>21.80</td>\n",
       "      <td>9281301</td>\n",
       "    </tr>\n",
       "    <tr>\n",
       "      <th>3</th>\n",
       "      <td>2024-01-30</td>\n",
       "      <td>21.88</td>\n",
       "      <td>22.01</td>\n",
       "      <td>21.76</td>\n",
       "      <td>21.80</td>\n",
       "      <td>6383741</td>\n",
       "    </tr>\n",
       "    <tr>\n",
       "      <th>4</th>\n",
       "      <td>2024-01-31</td>\n",
       "      <td>21.92</td>\n",
       "      <td>21.92</td>\n",
       "      <td>21.46</td>\n",
       "      <td>21.63</td>\n",
       "      <td>12162755</td>\n",
       "    </tr>\n",
       "    <tr>\n",
       "      <th>...</th>\n",
       "      <td>...</td>\n",
       "      <td>...</td>\n",
       "      <td>...</td>\n",
       "      <td>...</td>\n",
       "      <td>...</td>\n",
       "      <td>...</td>\n",
       "    </tr>\n",
       "    <tr>\n",
       "      <th>245</th>\n",
       "      <td>2025-01-20</td>\n",
       "      <td>24.95</td>\n",
       "      <td>25.05</td>\n",
       "      <td>24.80</td>\n",
       "      <td>25.00</td>\n",
       "      <td>4004400</td>\n",
       "    </tr>\n",
       "    <tr>\n",
       "      <th>246</th>\n",
       "      <td>2025-01-21</td>\n",
       "      <td>25.05</td>\n",
       "      <td>25.10</td>\n",
       "      <td>24.85</td>\n",
       "      <td>24.95</td>\n",
       "      <td>4342600</td>\n",
       "    </tr>\n",
       "    <tr>\n",
       "      <th>247</th>\n",
       "      <td>2025-01-22</td>\n",
       "      <td>25.00</td>\n",
       "      <td>25.00</td>\n",
       "      <td>24.80</td>\n",
       "      <td>24.85</td>\n",
       "      <td>2787900</td>\n",
       "    </tr>\n",
       "    <tr>\n",
       "      <th>248</th>\n",
       "      <td>2025-01-23</td>\n",
       "      <td>24.90</td>\n",
       "      <td>25.40</td>\n",
       "      <td>24.90</td>\n",
       "      <td>25.30</td>\n",
       "      <td>8896800</td>\n",
       "    </tr>\n",
       "    <tr>\n",
       "      <th>249</th>\n",
       "      <td>2025-01-24</td>\n",
       "      <td>25.20</td>\n",
       "      <td>25.50</td>\n",
       "      <td>25.20</td>\n",
       "      <td>25.35</td>\n",
       "      <td>4898600</td>\n",
       "    </tr>\n",
       "  </tbody>\n",
       "</table>\n",
       "<p>250 rows × 6 columns</p>\n",
       "</div>"
      ],
      "text/plain": [
       "          time   open   high    low  close    volume\n",
       "0   2024-01-25  21.71  21.76  21.50  21.67   5090360\n",
       "1   2024-01-26  21.71  22.18  21.71  22.09   6861782\n",
       "2   2024-01-29  22.26  22.26  21.80  21.80   9281301\n",
       "3   2024-01-30  21.88  22.01  21.76  21.80   6383741\n",
       "4   2024-01-31  21.92  21.92  21.46  21.63  12162755\n",
       "..         ...    ...    ...    ...    ...       ...\n",
       "245 2025-01-20  24.95  25.05  24.80  25.00   4004400\n",
       "246 2025-01-21  25.05  25.10  24.85  24.95   4342600\n",
       "247 2025-01-22  25.00  25.00  24.80  24.85   2787900\n",
       "248 2025-01-23  24.90  25.40  24.90  25.30   8896800\n",
       "249 2025-01-24  25.20  25.50  25.20  25.35   4898600\n",
       "\n",
       "[250 rows x 6 columns]"
      ]
     },
     "execution_count": 5,
     "metadata": {},
     "output_type": "execute_result"
    }
   ],
   "source": [
    "st = stock.quote.history(start= '2024-01-25' , end= '2025-01-25' )\n",
    "st"
   ]
  },
  {
   "cell_type": "code",
   "execution_count": 7,
   "metadata": {},
   "outputs": [
    {
     "data": {
      "text/plain": [
       "<vnstock.explorer.vci.financial.Finance at 0x22a04e3b790>"
      ]
     },
     "execution_count": 7,
     "metadata": {},
     "output_type": "execute_result"
    }
   ],
   "source": [
    "from vnstock.explorer.vci.financial import Finance\n",
    "report = Finance(symbol='ACB',period='quarter' )\n",
    "report"
   ]
  },
  {
   "cell_type": "code",
   "execution_count": null,
   "metadata": {},
   "outputs": [],
   "source": [
    "report.balance_sheet(lang='en')"
   ]
  },
  {
   "cell_type": "code",
   "execution_count": 11,
   "metadata": {},
   "outputs": [],
   "source": [
    "data=report.balance_sheet(lang='vi')"
   ]
  },
  {
   "cell_type": "code",
   "execution_count": 12,
   "metadata": {},
   "outputs": [
    {
     "data": {
      "text/plain": [
       "Index(['CP', 'Năm', 'Kỳ', 'TỔNG CỘNG TÀI SẢN (Tỷ đồng)',\n",
       "       'Tiền và tương đương tiền (Tỷ đồng)',\n",
       "       'Tiền gửi tại ngân hàng nhà nước Việt Nam',\n",
       "       'Tiền gửi tại các TCTD khác và cho vay các TCTD khác',\n",
       "       'Chứng khoán kinh doanh', 'Chứng khoán kinh doanh',\n",
       "       'Dự phòng giảm giá chứng khoán kinh doanh',\n",
       "       'Các công cụ tài chính phái sinh và khoản nợ tài chính khác',\n",
       "       'Cho vay khách hàng', 'Cho vay khách hàng',\n",
       "       'Dự phòng rủi ro cho vay khách hàng', 'Chứng khoán đầu tư',\n",
       "       'Chứng khoán đầu tư sẵn sàng để bán',\n",
       "       'Chứng khoán đầu tư giữ đến ngày đáo hạn',\n",
       "       'Dự phòng giảm giá chứng khoán đầu tư', 'Đầu tư dài hạn (Tỷ đồng)',\n",
       "       'Đầu tư vào công ty liên doanh', 'Tài sản dài hạn khác (Tỷ đồng)',\n",
       "       'Dự phòng giảm giá đầu tư dài hạn', 'Tài sản cố định (Tỷ đồng)',\n",
       "       'Tài sản cố định hữu hình', 'Tài sản cố định vô hình',\n",
       "       'Giá trị ròng tài sản đầu tư', 'Tài sản Có khác',\n",
       "       'TỔNG CỘNG NGUỒN VỐN (Tỷ đồng)', 'NỢ PHẢI TRẢ (Tỷ đồng)',\n",
       "       'Các khoản nợ chính phủ và NHNN Việt Nam',\n",
       "       'Tiền gửi và vay các Tổ chức tín dụng khác', 'Tiền gửi của khách hàng',\n",
       "       'Các công cụ tài chính phái sinh và khoản nợ tài chính khác',\n",
       "       'Vốn tài trợ, uỷ thác đầu tư của CP và các tổ chức TD khác',\n",
       "       'Phát hành giấy tờ có giá', 'Các khoản nợ khác',\n",
       "       'VỐN CHỦ SỞ HỮU (Tỷ đồng)', 'Vốn của tổ chức tín dụng',\n",
       "       'Quỹ của tổ chức tín dụng', 'Chênh lệch tỷ giá hối đoái',\n",
       "       'Lãi chưa phân phối (Tỷ đồng)', 'Vốn góp của chủ sở hữu (Tỷ đồng)',\n",
       "       'LỢI ÍCH CỦA CỔ ĐÔNG THIỂU SỐ'],\n",
       "      dtype='object')"
      ]
     },
     "execution_count": 12,
     "metadata": {},
     "output_type": "execute_result"
    }
   ],
   "source": [
    "data.columns"
   ]
  },
  {
   "cell_type": "code",
   "execution_count": 16,
   "metadata": {},
   "outputs": [],
   "source": [
    "cpsx = [ \"AAA\", \"AAM\", \"AAT\", \"ABT\", \"ACC\", \"ACL\", \"ADC\", \"ADG\", \"ADS\", \"AGM\", \"AGX\", \"ALV\", \"AMC\", \"AME\", \"AMP\", \"ANV\", \"APC\", \"APF\", \"APP\", \"APS\", \"ARM\", \"ASA\", \"ASM\", \"ASP\", \"AST\", \"ATG\", \"AVC\", \"AVF\", \"BAX\", \"BBH\", \"BBS\", \"BBW\", \"BCV\", \"BDB\", \"BDT\", \"BED\", \"BGM\", \"BHC\", \"BHT\", \"BIC\", \"BID\", \"BII\", \"BKC\", \"BKH\", \"BLC\", \"BLF\", \"BMC\", \"BMS\", \"BNA\", \"BPC\", \"BRC\", \"BRR\", \"BSA\", \"BSC\", \"BST\", \"BTA\", \"BTC\", \"BTH\", \"BTW\", \"BTT\", \"BTV\", \"BVB\", \"BVS\", \"BWE\", \"BWS\", \"BXT\", \"C32\", \"C47\", \"C92\", \"CAB\", \"CAD\", \"CAN\", \"CAP\", \"CAT\", \"CAV\", \"CAX\", \"CBC\", \"CCB\", \"CCH\", \"CCM\", \"CCP\", \"CCT\", \"CDC\", \"CDO\", \"CEG\", \"CEN\", \"CFC\", \"CFG\", \"CFF\", \"CFM\", \"CFS\", \"CFT\", \"CFV\", \"CGC\", \"CGD\", \"CGS\", \"CGT\", \"CGV\", \"CHC\", \"CHD\", \"CHS\", \"CHT\", \"CHV\", \"CIC\", \"CII\", \"CIM\", \"CIN\", \"CIP\", \"CIR\", \"CIT\", \"CIV\", \"CIX\", \"CJC\", \"CJS\", \"CJT\", \"CJV\", \"CJS\", \"CJT\", \"CJV\", \"CKC\", \"CKD\", \"CKS\", \"CKT\", \"CKV\", \"CLG\", \"CLH\", \"CLI\", \"CLL\", \"CLM\", \"CLN\", \"CLO\", \"CLP\", \"CLQ\", \"CLR\", \"CLS\", \"CLT\", \"CLV\", \"CLX\", \"CMA\", \"CMB\", \"CMC\", \"CMD\", \"CME\", \"CMF\", \"CMG\", \"CMH\", \"CMI\", \"CMJ\", \"CMK\", \"CML\", \"CMM\", \"CMN\", \"CMO\", \"CMP\", \"CMQ\", \"CMR\", \"CMS\", \"CMT\", \"CMU\", \"CMV\", \"CMW\", \"CMX\", \"CNA\", \"CNB\", \"CNC\", \"CND\", \"CNE\", \"CNF\", \"CNG\", \"CNH\", \"CNI\", \"CNJ\", \"CNK\", \"CNL\", \"CNM\", \"CNN\", \"CNO\", \"CNP\", \"CNQ\", \"CNR\", \"CNS\", \"CNT\", \"CNU\", \"CNV\", \"CNW\", \"CNX\", \"COA\", \"COB\", \"COC\", \"COD\", \"COE\", \"COF\", \"COG\", \"COH\", \"COI\", \"COJ\", \"COK\", \"COL\", \"COM\", \"CON\", \"COO\", \"COP\", \"COQ\", \"COR\", \"COS\", \"COT\", \"COU\", \"COV\", \"COW\", \"COX\", \"COY\", \"COZ\", \"CPA\", \"CPB\", \"CPC\", \"CPD\", \"CPE\", \"CPF\", \"CPG\", \"CPH\", \"CPI\", \"CPJ\", \"CPK\", \"CPL\", \"CPM\", \"CPN\", \"CPO\", \"CPP\", \"CPQ\", \"CPR\", \"CPS\", \"CPT\", \"CPU\", \"CPV\", \"CPW\", \"CPX\", \"CPY\", \"CPZ\", \"CQA\", \"CQB\", \"CQC\", \"CQD\", \"CQE\", \"CQF\", \"CQG\", \"CQH\", \"CQI\", \"CQJ\", \"CQK\", \"CQL\", \"CQM\", \"CQN\", \"CQQ\", \"CQR\", \"CQS\", \"CQT\", \"CQU\", \"CQV\", \"CQW\", \"CQX\", \"CQY\", \"CQZ\", \"CRA\", \"CRB\", \"CRC\", \"CRD\", \"CRE\", \"CRF\", \"CRG\", \"CRH\", \"CRI\", \"CRJ\", \"CRK\", \"CRL\", \"CRM\", \"CRN\", \"CRO\", \"CRP\", \"CRQ\", \"CRR\", \"CRS\", \"CRT\", \"CRU\", \"CRV\", \"CRW\", \"CRX\", \"CRY\", \"CRZ\", \"CSA\", \"CSB\", \"CSC\", \"CSD\", \"CSE\", \"CSF\", \"CSG\", \"CSH\", \"CSI\", \"CSJ\", \"CSK\", \"CSL\", \"CSM\", \"CSN\", \"CSO\", \"CSP\", \"CSQ\", \"CSR\", \"CSS\", \"CST\", \"CSU\", \"CSV\", \"CSW\", \"CSX\", \"CSY\", \"CSZ\", \"CTA\", \"CTB\", \"CTC\", \"CTD\", \"CTE\", \"CTF\", \"CTG\", \"CTH\", \"CTI\", \"CTJ\", \"CTK\", \"CTL\", \"CTM\", \"CTN\", \"CTO\", \"CTP\", \"CTQ\", \"CTR\", \"CTS\", \"CTT\", \"CTU\", \"CTV\", \"CTW\", \"CTX\", \"CTY\", \"CTZ\", \"CUA\", \"CUB\", \"CUC\", \"CUD\", \"CUE\", \"CUF\", \"CUG\", \"CUH\", \"CUI\", \"CUJ\", \"CUK\", \"CUL\", \"CUM\", \"CUN\", \"CUO\", \"CUP\", \"CUQ\", \"CUR\", \"CUS\", \"CUT\", \"CUU\", \"CUV\", \"CUW\", \"CUX\", \"CUY\", \"CUZ\", \"CVA\", \"CVB\", \"CVC\", \"CVD\", \"CVE\", \"CVF\", \"CVG\", \"CVH\", \"CVI\", \"CVJ\", \"CVK\", \"CVL\", \"CVM\", \"CVN\", \"CVO\", \"CVP\", \"CVQ\", \"CVR\", \"CVS\", \"CVT\", \"CVU\", \"CVV\", \"CVW\", \"CVX\",]\n",
    " \n"
   ]
  },
  {
   "cell_type": "code",
   "execution_count": 14,
   "metadata": {},
   "outputs": [],
   "source": [
    "midcaps=stock.listing.symbols_by_group('VNMidCap')"
   ]
  },
  {
   "cell_type": "code",
   "execution_count": 17,
   "metadata": {},
   "outputs": [
    {
     "data": {
      "text/plain": [
       "0     AAA\n",
       "1     ANV\n",
       "2     ASM\n",
       "3     BCG\n",
       "4     BMP\n",
       "     ... \n",
       "65    VHC\n",
       "66    VIX\n",
       "67    VND\n",
       "68    VPI\n",
       "69    VSH\n",
       "Name: symbol, Length: 70, dtype: object"
      ]
     },
     "execution_count": 17,
     "metadata": {},
     "output_type": "execute_result"
    }
   ],
   "source": [
    "midcaps"
   ]
  },
  {
   "cell_type": "code",
   "execution_count": 18,
   "metadata": {},
   "outputs": [
    {
     "name": "stdout",
     "output_type": "stream",
     "text": [
      "{'ASM', 'CII', 'BWE', 'ANV', 'CTD', 'CRE', 'CMG', 'AAA', 'CTR'}\n"
     ]
    }
   ],
   "source": [
    "# Khởi tạo hai danh sách\n",
    "list1 = cpsx \n",
    "list2 = midcaps\n",
    "\n",
    "# Chuyển đổi danh sách thành tập hợp\n",
    "set1 = set(list1)\n",
    "set2 = set(list2)\n",
    "\n",
    "# Tìm giá trị chung giữa hai tập hợp\n",
    "common_values = set1 & set2\n",
    "\n",
    "# In kết quả\n",
    "print(common_values)\n"
   ]
  }
 ],
 "metadata": {
  "kernelspec": {
   "display_name": "env",
   "language": "python",
   "name": "python3"
  },
  "language_info": {
   "codemirror_mode": {
    "name": "ipython",
    "version": 3
   },
   "file_extension": ".py",
   "mimetype": "text/x-python",
   "name": "python",
   "nbconvert_exporter": "python",
   "pygments_lexer": "ipython3",
   "version": "3.10.16"
  }
 },
 "nbformat": 4,
 "nbformat_minor": 2
}
